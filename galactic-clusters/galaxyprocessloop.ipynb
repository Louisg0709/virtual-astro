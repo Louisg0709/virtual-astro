{
 "cells": [
  {
   "cell_type": "code",
   "execution_count": 1,
   "metadata": {},
   "outputs": [],
   "source": [
    "# Python standard-library\n",
    "from urllib.parse import urlencode\n",
    "from urllib.request import urlretrieve\n",
    "\n",
    "\n",
    "import pandas as pd\n",
    "import numpy as np\n",
    "import matplotlib\n",
    "\n",
    "# Third-party dependencies\n",
    "from astropy import units as u\n",
    "from astropy.coordinates import SkyCoord\n",
    "from astropy.table import Table\n",
    "from astropy.io import ascii\n",
    "\n",
    "from IPython.display import Image\n",
    "\n",
    "# Set up matplotlib and use a nicer set of plot parameters\n",
    "import matplotlib.pyplot as plt\n",
    "%matplotlib inline"
   ]
  },
  {
   "cell_type": "code",
   "execution_count": 13,
   "metadata": {},
   "outputs": [
    {
     "name": "stdout",
     "output_type": "stream",
     "text": [
      "3\n",
      "['Pal 4', 2]\n",
      "Pal 4\n",
      "2\n"
     ]
    }
   ],
   "source": [
    "#clusters=[['ngc 2419',12],['Pal 3',12],['Pal 4',12],['ngc 4147',12],['ngc 5024',12],['M53',12],['ngc 5053',12],['ngc 5272',12]\n",
    "#      ,['M3',12],['ngc 5466',12],['Pal 5',12],['ngc 5904',12],['M5',12],['Pal 14',12],['ngc 6205',12],['M13',12],\n",
    "#     ['ngc 6341',12],['M92',12],['ngc 6838',12],['M71',12],['ngc 7006',12],['ngc 7078',12],['M15',12],['ngc 7089',12],['M2',12]]\n",
    "clusters=[['ngc 2419',2.92],['Pal 3',6.18],['Pal 4',2]]\n",
    "\n",
    "#clusters=[['ngc 2419',12],['Pal 3',12],['Pal 4',12],['ngc 4147',12],['ngc 5024',12],['M53',12],['ngc 5053',12],['ngc 5272',12]\n",
    "#     ,['M3',12],['ngc 5466',12],['Pal 5',12],['ngc 5904',12],['M5',12],['Pal 14',12],['ngc 6205',12],['M13',12],\n",
    "#     ['ngc 6341',12],['M92',12],['ngc 7006',12],['ngc 7078',12],['M15',12],['ngc 7089',12],['M2',12]]\n",
    "\n",
    "print(len(clusters))\n",
    "i=2\n",
    "print(clusters[i])\n",
    "\n",
    "sclus=clusters[i]\n",
    "print(sclus[0])\n",
    "print(sclus[1])"
   ]
  },
  {
   "cell_type": "code",
   "execution_count": 14,
   "metadata": {},
   "outputs": [
    {
     "name": "stdout",
     "output_type": "stream",
     "text": [
      "ngc 2419\n",
      "114.535458 38.881917\n",
      "Pal 3\n",
      "151.379 0.070944\n",
      "Pal 4\n",
      "172.32 28.973611\n"
     ]
    }
   ],
   "source": [
    "radeg= [None] * len(clusters)\n",
    "decdeg= [None] * len(clusters)\n",
    "i=0\n",
    "for clus in clusters:\n",
    "    #print(clus)\n",
    "    print(clus[0])\n",
    "    #print(clus[1])\n",
    "    clus_center = SkyCoord.from_name(clus[0])\n",
    "    #print(clus_center.ra, clus_center.dec)\n",
    "    #print(clus_center.ra.hour, clus_center.dec)\n",
    "    print(str(clus_center.ra.deg), str(clus_center.dec.deg))\n",
    "    radeg[i]=clus_center.ra.deg\n",
    "    decdeg[i]=clus_center.dec.deg\n",
    "    i=i+1\n",
    "    clus[1]=10"
   ]
  },
  {
   "cell_type": "code",
   "execution_count": 22,
   "metadata": {},
   "outputs": [
    {
     "name": "stdout",
     "output_type": "stream",
     "text": [
      "ngc 2419\n"
     ]
    },
    {
     "name": "stderr",
     "output_type": "stream",
     "text": [
      "WARNING: AstropyDeprecationWarning: galaxout/ngc 2419.csv already exists. Automatically overwriting ASCII files is deprecated. Use the argument 'overwrite=True' in the future. [astropy.io.ascii.ui]\n"
     ]
    },
    {
     "name": "stdout",
     "output_type": "stream",
     "text": [
      "Pal 3\n"
     ]
    },
    {
     "name": "stderr",
     "output_type": "stream",
     "text": [
      "WARNING: AstropyDeprecationWarning: galaxout/Pal 3.csv already exists. Automatically overwriting ASCII files is deprecated. Use the argument 'overwrite=True' in the future. [astropy.io.ascii.ui]\n"
     ]
    },
    {
     "name": "stdout",
     "output_type": "stream",
     "text": [
      "Pal 4\n"
     ]
    },
    {
     "name": "stderr",
     "output_type": "stream",
     "text": [
      "WARNING: AstropyDeprecationWarning: galaxout/Pal 4.csv already exists. Automatically overwriting ASCII files is deprecated. Use the argument 'overwrite=True' in the future. [astropy.io.ascii.ui]\n"
     ]
    }
   ],
   "source": [
    "from astroquery.sdss import SDSS\n",
    "from astropy.io import ascii\n",
    "\n",
    "#q1 = \" select g.objid, g.ra, g.dec, g.u, g.g, g.r, g.i, g.z from galaxy g, \"\n",
    "q1 = \" select g.objid, g.ra, g.dec, g.u, g.g, g.r, g.i, g.z, s.z as redshift FROM galaxy AS g JOIN SpecObj AS s ON s.bestobjid = g.objid, \"\n",
    "q3 = \"  n where g.objid = n.objid \"\n",
    "i=0\n",
    "for clus in clusters:\n",
    "    print(clus[0])\n",
    "    #query = \"select top 10                        z, ra, dec, bestObjID                      from                        specObj                      where                        class = 'galaxy'                        and z > 0.3                        and zWarning = 0\"\n",
    "    #query = \" select s.objid, s.ra, s.dec, s.u, s.g, s.r, s.i, s.z from star s, dbo.fGetNearbyObjEq(229.0128,-0.1082,3) n where s.objid = n.objid \"\n",
    "    q2 = \" dbo.fGetNearbyObjEq(\"+str(radeg[i])+\",\"+str(decdeg[i])+\",32) \"\n",
    "    query = q1+q2+q3\n",
    "    i=i+1\n",
    "    res = SDSS.query_sql(query)\n",
    "    outfile='galaxout/'+clus[0]+'.csv'\n",
    "    ascii.write(res,outfile)"
   ]
  },
  {
   "cell_type": "code",
   "execution_count": null,
   "metadata": {},
   "outputs": [],
   "source": []
  }
 ],
 "metadata": {
  "kernelspec": {
   "display_name": "Python 3",
   "language": "python",
   "name": "python3"
  },
  "language_info": {
   "codemirror_mode": {
    "name": "ipython",
    "version": 3
   },
   "file_extension": ".py",
   "mimetype": "text/x-python",
   "name": "python",
   "nbconvert_exporter": "python",
   "pygments_lexer": "ipython3",
   "version": "3.6.6"
  }
 },
 "nbformat": 4,
 "nbformat_minor": 2
}
