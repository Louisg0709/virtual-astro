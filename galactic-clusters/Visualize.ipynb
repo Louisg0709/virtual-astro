{
 "cells": [
  {
   "cell_type": "raw",
   "metadata": {},
   "source": [
    "## Visualisation of Galaxy Clusters\n",
    "This workshet will be used to load galaxy clusters and to plot the position \n",
    "on a 3d plot. For examples see\n",
    "* [General description of matlab worksheet for visualisation](https://sites.google.com/a/sheffield.ac.uk/rcg/my-blog/research-computing-notes/matlabdataanalysiscasestudy)\n",
    "* [The actual matlab livescript](http://rcg.group.shef.ac.uk/courses/cic6007/galaxyanalysis-clus.html)\n"
   ]
  },
  {
   "cell_type": "code",
   "execution_count": null,
   "metadata": {},
   "outputs": [],
   "source": []
  }
 ],
 "metadata": {
  "kernelspec": {
   "display_name": "Python 3",
   "language": "python",
   "name": "python3"
  },
  "language_info": {
   "codemirror_mode": {
    "name": "ipython",
    "version": 3
   },
   "file_extension": ".py",
   "mimetype": "text/x-python",
   "name": "python",
   "nbconvert_exporter": "python",
   "pygments_lexer": "ipython3",
   "version": "3.6.6"
  }
 },
 "nbformat": 4,
 "nbformat_minor": 2
}
