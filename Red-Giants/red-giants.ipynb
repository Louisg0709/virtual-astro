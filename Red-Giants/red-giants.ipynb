{
 "cells": [
  {
   "cell_type": "markdown",
   "metadata": {},
   "source": [
    "I got the following code and information from https://www.sdss.org/dr16/irspec/spectro_data/#SummaryCatalogs"
   ]
  },
  {
   "cell_type": "markdown",
   "metadata": {},
   "source": [
    "# Finding Red Giants"
   ]
  },
  {
   "cell_type": "markdown",
   "metadata": {},
   "source": [
    "Imports and Variable/Strings"
   ]
  },
  {
   "cell_type": "code",
   "execution_count": 2,
   "metadata": {},
   "outputs": [],
   "source": [
    "import numpy\n",
    "from astropy.io import fits \n",
    "star_hdus = fits.open('../../data/allStar-r12-l33.fits')\n",
    "star = star_hdus[1].data\n",
    "star_hdus.close()\n",
    "badbits = 2**23\n",
    "gd = (numpy.bitwise_and(star['aspcapflag'], badbits) == 0) & (star['extratarg']==0)\n",
    "ind = numpy.where(gd)[0] "
   ]
  },
  {
   "cell_type": "code",
   "execution_count": 5,
   "metadata": {},
   "outputs": [
    {
     "ename": "ModuleNotFoundError",
     "evalue": "No module named 'pfits'",
     "output_type": "error",
     "traceback": [
      "\u001b[0;31m---------------------------------------------------------------------------\u001b[0m",
      "\u001b[0;31mModuleNotFoundError\u001b[0m                       Traceback (most recent call last)",
      "\u001b[0;32m<ipython-input-5-4c5ca28f4dbf>\u001b[0m in \u001b[0;36m<module>\u001b[0;34m\u001b[0m\n\u001b[1;32m      2\u001b[0m \u001b[0;31m# coding: utf-8\u001b[0m\u001b[0;34m\u001b[0m\u001b[0;34m\u001b[0m\u001b[0;34m\u001b[0m\u001b[0m\n\u001b[1;32m      3\u001b[0m \u001b[0;34m\u001b[0m\u001b[0m\n\u001b[0;32m----> 4\u001b[0;31m \u001b[0;32mimport\u001b[0m \u001b[0mpfits\u001b[0m\u001b[0;34m\u001b[0m\u001b[0;34m\u001b[0m\u001b[0m\n\u001b[0m\u001b[1;32m      5\u001b[0m \u001b[0;32mfrom\u001b[0m \u001b[0mmatplotlib\u001b[0m \u001b[0;32mimport\u001b[0m \u001b[0mpyplot\u001b[0m \u001b[0;32mas\u001b[0m \u001b[0mplt\u001b[0m\u001b[0;34m\u001b[0m\u001b[0;34m\u001b[0m\u001b[0m\n\u001b[1;32m      6\u001b[0m \u001b[0;32mimport\u001b[0m \u001b[0mnumpy\u001b[0m \u001b[0;32mas\u001b[0m \u001b[0mnp\u001b[0m\u001b[0;34m\u001b[0m\u001b[0;34m\u001b[0m\u001b[0m\n",
      "\u001b[0;31mModuleNotFoundError\u001b[0m: No module named 'pfits'"
     ]
    }
   ],
   "source": [
    "#!/usr/bin/env python\n",
    "# coding: utf-8\n",
    "\n",
    "import fitsio\n",
    "from matplotlib import pyplot as plt\n",
    "import numpy as np\n",
    "data = fitsio.read(\"../../data/allStar-r12-l33.fits\")\n",
    "\n",
    "starbad = 2**23 #bit flag for bad stars \n",
    "gd = np.bitwise_and(data[\"ASPCAPFLAG\"], starbad) == 0 \n",
    "teff_logg_check = np.logical_and(data[\"TEFF\"] > 0, data[\"LOGG\"] > -10) # this checks for -9999 values\n",
    "teff_logg_feh_check = np.logical_and(data[\"FE_H\"]> -6, teff_logg_check)\n",
    "\n",
    "indices = np.where(np.logical_and(gd, teff_logg_feh_check)) \n",
    "good = data[indices] # this only the good data now\n",
    "Teff_vals = good[\"TEFF\"]\n",
    "logg_vals = good[\"LOGG\"]\n",
    "FeH_vals = good[\"FE_H\"]"
   ]
  },
  {
   "cell_type": "code",
   "execution_count": null,
   "metadata": {},
   "outputs": [],
   "source": [
    "#!/usr/bin/env python\n",
    "# coding: utf-8\n",
    "\n",
    "import fitsio\n",
    "from matplotlib import pyplot as plt\n",
    "import numpy as np\n",
    "data = fitsio.read(\"allStar-r12-l33.fits\")\n",
    "\n",
    "starbad = 2**23 #bit flag for bad stars \n",
    "gd = np.bitwise_and(data[\"ASPCAPFLAG\"], starbad) == 0 \n",
    "teff_logg_check = np.logical_and(data[\"TEFF\"] > 0, data[\"LOGG\"] > -10) # this checks for -9999 values\n",
    "teff_logg_feh_check = np.logical_and(data[\"FE_H\"]> -6, teff_logg_check)\n",
    "\n",
    "indices = np.where(np.logical_and(gd, teff_logg_feh_check)) \n",
    "good = data[indices] # this only the good data now\n",
    "Teff_vals = good[\"TEFF\"]\n",
    "logg_vals = good[\"LOGG\"]\n",
    "FeH_vals = good[\"FE_H\"]"
   ]
  },
  {
   "cell_type": "code",
   "execution_count": 2,
   "metadata": {},
   "outputs": [],
   "source": [
    "from astropy import units as u\n",
    "from astropy.coordinates import SkyCoord"
   ]
  },
  {
   "cell_type": "code",
   "execution_count": null,
   "metadata": {},
   "outputs": [],
   "source": []
  },
  {
   "cell_type": "code",
   "execution_count": 3,
   "metadata": {},
   "outputs": [
    {
     "name": "stdout",
     "output_type": "stream",
     "text": [
      "3\n",
      "['Pal 4', 2]\n",
      "Pal 4\n",
      "2\n"
     ]
    }
   ],
   "source": [
    "#clusters=[['ngc 2419',12],['Pal 3',12],['Pal 4',12],['ngc 4147',12],['ngc 5024',12],['M53',12],['ngc 5053',12],['ngc 5272',12]\n",
    "#      ,['M3',12],['ngc 5466',12],['Pal 5',12],['ngc 5904',12],['M5',12],['Pal 14',12],['ngc 6205',12],['M13',12],\n",
    "#     ['ngc 6341',12],['M92',12],['ngc 6838',12],['M71',12],['ngc 7006',12],['ngc 7078',12],['M15',12],['ngc 7089',12],['M2',12]]\n",
    "clusters=[['ngc 2419',2.92],['Pal 3',6.18],['Pal 4',2]]\n",
    "\n",
    "print(len(clusters))\n",
    "i=2\n",
    "print(clusters[i])\n",
    "\n",
    "sclus=clusters[i]\n",
    "print(sclus[0])\n",
    "print(sclus[1])"
   ]
  },
  {
   "cell_type": "code",
   "execution_count": 4,
   "metadata": {},
   "outputs": [
    {
     "name": "stdout",
     "output_type": "stream",
     "text": [
      "3\n",
      "['Pal 4', 2]\n",
      "Pal 4\n",
      "2\n"
     ]
    }
   ],
   "source": [
    "\n",
    "rgs=[['119 Tau',12]]\n",
    "#clusters=[['ngc 2419',2.92],['Pal 3',6.18],['Pal 4',2]]\n",
    "\n",
    "print(len(clusters))\n",
    "i=2\n",
    "print(clusters[i])\n",
    "\n",
    "sclus=clusters[i]\n",
    "print(sclus[0])\n",
    "print(sclus[1])"
   ]
  },
  {
   "cell_type": "code",
   "execution_count": 5,
   "metadata": {},
   "outputs": [
    {
     "name": "stdout",
     "output_type": "stream",
     "text": [
      "ngc 2419\n",
      "114.53545833 38.88191667\n",
      "Pal 3\n",
      "151.379 0.07094444\n",
      "Pal 4\n",
      "172.32 28.97361111\n"
     ]
    }
   ],
   "source": [
    "radeg= [None] * len(clusters)\n",
    "decdeg= [None] * len(clusters)\n",
    "i=0\n",
    "for clus in clusters:\n",
    "    #print(clus)\n",
    "    print(clus[0])\n",
    "    #print(clus[1])\n",
    "    clus_center = SkyCoord.from_name(clus[0])\n",
    "    #print(clus_center.ra, clus_center.dec)\n",
    "    #print(clus_center.ra.hour, clus_center.dec)\n",
    "    print(str(clus_center.ra.deg), str(clus_center.dec.deg))\n",
    "    radeg[i]=clus_center.ra.deg\n",
    "    decdeg[i]=clus_center.dec.deg\n",
    "    i=i+1\n",
    "    clus[1]=10\n",
    "    \n",
    "    #im_size = clus[1]*u.arcmin \n",
    "    #im_pixels = 1024 \n",
    "    #cutoutbaseurl = 'http://skyservice.pha.jhu.edu/DR12/ImgCutout/getjpeg.aspx'\n",
    "    #query_string = urlencode(dict(ra=clus_center.ra.deg, \n",
    "    #                          dec=clus_center.dec.deg, \n",
    "    #                          width=im_pixels, height=im_pixels, \n",
    "    #                          scale=im_size.to(u.arcsec).value/im_pixels))\n",
    "    #url = cutoutbaseurl + '?' + query_string\n",
    "\n",
    "    # this downloads the image to your disk\n",
    "    #urlretrieve(url, 'PAL3_SDSS_cutout.jpg')\n",
    "    #imfilename='rgout/'+clus[0]+'.jpg'\n",
    "    #urlretrieve(url, imfilename)"
   ]
  },
  {
   "cell_type": "code",
   "execution_count": 6,
   "metadata": {},
   "outputs": [
    {
     "name": "stderr",
     "output_type": "stream",
     "text": [
      "WARNING: AstropyDeprecationWarning: rgout/ngc 2419.csv already exists. Automatically overwriting ASCII files is deprecated. Use the argument 'overwrite=True' in the future. [astropy.io.ascii.ui]\n",
      "WARNING: AstropyDeprecationWarning: rgout/Pal 3.csv already exists. Automatically overwriting ASCII files is deprecated. Use the argument 'overwrite=True' in the future. [astropy.io.ascii.ui]\n",
      "WARNING: AstropyDeprecationWarning: rgout/Pal 4.csv already exists. Automatically overwriting ASCII files is deprecated. Use the argument 'overwrite=True' in the future. [astropy.io.ascii.ui]\n"
     ]
    }
   ],
   "source": [
    "from astroquery.sdss import SDSS\n",
    "from astropy.io import ascii\n",
    "\n",
    "q1 = \" select s.objid, s.ra, s.dec, s.u, s.g, s.r, s.i, s.z from star s, \"\n",
    "q3 = \"  n where s.objid = n.objid \"\n",
    "i=0\n",
    "for clus in clusters:\n",
    "    #query = \"select top 10                        z, ra, dec, bestObjID                      from                        specObj                      where                        class = 'galaxy'                        and z > 0.3                        and zWarning = 0\"\n",
    "    #query = \" select s.objid, s.ra, s.dec, s.u, s.g, s.r, s.i, s.z from star s, dbo.fGetNearbyObjEq(229.0128,-0.1082,3) n where s.objid = n.objid \"\n",
    "    q2 = \" dbo.fGetNearbyObjEq(\"+str(radeg[i])+\",\"+str(decdeg[i])+\",8) \"\n",
    "    query = q1+q2+q3\n",
    "    i=i+1\n",
    "    res = SDSS.query_sql(query)\n",
    "    outfile='rgout/'+clus[0]+'.csv'\n",
    "    ascii.write(res,outfile)"
   ]
  },
  {
   "cell_type": "code",
   "execution_count": 7,
   "metadata": {},
   "outputs": [
    {
     "name": "stdout",
     "output_type": "stream",
     "text": [
      "       objid               ra              dec        ...    i        z    \n",
      "------------------- ---------------- ---------------- ... -------- --------\n",
      "1237667211061494090 172.369967527838 29.0236005393859 ... 22.61952 23.56167\n",
      "1237667211061494136 172.386704992373 29.0307274729142 ... 21.45578 21.82044\n",
      "1237667211061428989 172.313453285795 29.0264308006407 ... 24.18897 22.98672\n",
      "1237667211061428529 172.289952965803 28.9676028090411 ... 24.75321 22.10135\n",
      "1237667211061428781 172.254031273266 28.9916126912156 ... 22.63018 22.95296\n",
      "1237667211061428782 172.252826641857 29.0063031628907 ...  20.5558 20.25026\n",
      "1237667211061429021 172.326295355013 28.9812876813423 ... 23.30231  21.6746\n",
      "1237667211061429187 172.247155029476 28.9867173329159 ...  21.8872 21.53875\n",
      "1237667211061429188 172.246735591307 28.9877879603331 ... 21.88823 21.33899\n",
      "1237667211061429195  172.26238489532 28.9848477420672 ... 22.25725  20.9816\n",
      "                ...              ...              ... ...      ...      ...\n",
      "1237667253474165072 172.440251411123 28.9320487910064 ... 19.54855 19.40052\n",
      "1237667253474165100 172.461418424591 28.9275606581362 ... 20.64105 20.27177\n",
      "1237667253474165106 172.460081359455 28.9613714502977 ... 22.58908 22.38118\n",
      "1237667253474165107 172.459920472775 28.9603914181844 ... 22.22834 22.72234\n",
      "1237667253474165358 172.421843615525 28.8839186679839 ... 23.97657 21.88713\n",
      "1237667253474165359 172.420900766552 28.9063192361152 ... 22.79693 23.31907\n",
      "1237667253474165365 172.428242847624 28.8944534898102 ... 20.53152 19.98442\n",
      "1237667253474165384 172.444732349604 28.9126286297052 ...  21.7385 21.96496\n",
      "1237667253474165392 172.450004582596 28.9286605249557 ... 21.77177 21.65504\n",
      "1237667253474165584 172.412340078687 28.9455698914666 ... 25.30118 20.71501\n",
      "1237667253474165585 172.428229410688 28.9115598878432 ... 24.88567 20.68259\n",
      "Length = 565 rows\n"
     ]
    }
   ],
   "source": [
    "print(res)\n"
   ]
  },
  {
   "cell_type": "code",
   "execution_count": 8,
   "metadata": {},
   "outputs": [
    {
     "name": "stdout",
     "output_type": "stream",
     "text": [
      "       objid               ra              dec           u        g        r        i        z    \n",
      "------------------- ---------------- ---------------- -------- -------- -------- -------- --------\n",
      "1237667211061494136 172.386704992373 29.0307274729142 23.09132 22.22349 21.89649 21.45578 21.82044\n"
     ]
    }
   ],
   "source": [
    "print (res[1])"
   ]
  },
  {
   "cell_type": "code",
   "execution_count": 9,
   "metadata": {},
   "outputs": [
    {
     "name": "stdout",
     "output_type": "stream",
     "text": [
      "29.0307274729142\n",
      "565\n"
     ]
    }
   ],
   "source": [
    "print(res[1][2])\n",
    "print(len(res))"
   ]
  },
  {
   "cell_type": "code",
   "execution_count": null,
   "metadata": {},
   "outputs": [],
   "source": []
  },
  {
   "cell_type": "code",
   "execution_count": 35,
   "metadata": {},
   "outputs": [
    {
     "name": "stdout",
     "output_type": "stream",
     "text": [
      "about time!\n",
      "about time!\n",
      "about time!\n",
      "about time!\n",
      "about time!\n",
      "about time!\n",
      "about time!\n",
      "about time!\n",
      "about time!\n",
      "about time!\n",
      "about time!\n"
     ]
    }
   ],
   "source": [
    "from astropy.table import QTable, Table, Column\n",
    "\n",
    "clussize=len(res)\n",
    "rgtab = Table(names=('objid', 'ra', 'dec', 'u', 'g', 'r', 'i', 'z'),dtype=('int32', 'float64','float64', 'float64','float64','float64', 'float64','float64'))\n",
    "startab = Table(names=('objid', 'ra', 'dec', 'u', 'g', 'r', 'i', 'z'),dtype=('int32', 'float64','float64', 'float64','float64','float64', 'float64','float64'))\n",
    "bigtab = Table(names=('objid', 'ra', 'dec', 'u', 'g', 'r', 'i', 'z'),dtype=('int32', 'float64','float64', 'float64','float64','float64', 'float64','float64'))\n",
    "\n",
    "# t = Table(names=('a', 'b', 'c'), dtype=('f4', 'i4', 'S2'))\n",
    "for i in range(clussize):\n",
    "    bigtab.add_row(res[i])\n",
    "#for i in range(5):\n",
    "    g=res[i][4]\n",
    "    r=res[i][5]\n",
    "    u=res[i][3]\n",
    "    if g-r>0.8 and g-r<1.3:\n",
    "        if u-g>0.84*(g-r)+1.758:\n",
    "            if u-g<2.4*(g-r)+0.73:\n",
    "                print(\"about time!\")\n",
    "                rgtab.add_row(res[i])\n",
    "            else:\n",
    "                startab.add_row(res[i])\n",
    "\n",
    "                \n",
    "        \n",
    "    "
   ]
  },
  {
   "cell_type": "code",
   "execution_count": 36,
   "metadata": {},
   "outputs": [
    {
     "name": "stdout",
     "output_type": "stream",
     "text": [
      "  objid           ra              dec        ...    r        i        z    \n",
      "---------- ---------------- ---------------- ... -------- -------- --------\n",
      "1635188881 172.319576533073 28.9781239884233 ... 17.55418 17.05704 16.72677\n",
      "1635189442 172.290314997256 29.0768615004526 ...  20.2567 19.77213 19.46344\n",
      "1098187332 172.350187216945   28.85797359111 ... 20.38039 19.75166 19.29156\n",
      "1098186872 172.321432450547 28.9664477297099 ... 17.37736 16.83035 16.53284\n",
      "1098186873  172.32095298957 28.9642750365345 ... 17.57538 17.04726  16.7629\n",
      "1098186973 172.295609806615 28.9306269624967 ... 20.37102 18.87312 18.13255\n"
     ]
    }
   ],
   "source": [
    "print(startab)"
   ]
  },
  {
   "cell_type": "code",
   "execution_count": 28,
   "metadata": {},
   "outputs": [],
   "source": [
    "#We will make a loop over all the clusters and find more\n",
    "#red giants that arent a billion lightyears away."
   ]
  },
  {
   "cell_type": "code",
   "execution_count": null,
   "metadata": {},
   "outputs": [],
   "source": [
    "#method is in globularcluster_plothr_loop"
   ]
  },
  {
   "cell_type": "code",
   "execution_count": 37,
   "metadata": {},
   "outputs": [],
   "source": [
    "import pandas as pd\n",
    "import numpy as np\n",
    "import matplotlib\n",
    "\n",
    "# Third-party dependencies\n",
    "from astropy import units as u\n",
    "from astropy.coordinates import SkyCoord\n",
    "from astropy.table import Table\n",
    "from astropy.io import ascii\n",
    "\n",
    "from IPython.display import Image\n",
    "\n",
    "# Set up matplotlib and use a nicer set of plot parameters\n",
    "import matplotlib.pyplot as plt\n",
    "%matplotlib inline"
   ]
  },
  {
   "cell_type": "code",
   "execution_count": 28,
   "metadata": {},
   "outputs": [],
   "source": [
    "tbl = Table(names=('objid', 'ra', 'dec', 'u', 'g', 'r', 'i', 'z'), dtype=('int32', 'float64','float64', 'float64','float64','float64', 'float64','float64'))\n",
    "tbl=pd.read_csv('rgout/'+clusters[2][0]+'.csv',sep=' ')"
   ]
  },
  {
   "cell_type": "code",
   "execution_count": 29,
   "metadata": {},
   "outputs": [
    {
     "name": "stdout",
     "output_type": "stream",
     "text": [
      "Pal 4\n"
     ]
    }
   ],
   "source": [
    "print(clusters[2][0])"
   ]
  },
  {
   "cell_type": "code",
   "execution_count": 51,
   "metadata": {},
   "outputs": [
    {
     "data": {
      "text/plain": [
       "Text(0.5, 1.0, 'H-R Diagram for Pal 3 Cluster')"
      ]
     },
     "execution_count": 51,
     "metadata": {},
     "output_type": "execute_result"
    },
    {
     "data": {
      "image/png": "[encoded data removed]",
      "text/plain": [
       "<Figure size 432x288 with 1 Axes>"
      ]
     },
     "metadata": {
      "needs_background": "light"
     },
     "output_type": "display_data"
    }
   ],
   "source": [
    "tab=rgtab\n",
    "\n",
    "tab[\"objid\"]\n",
    "rmag = tab[\"r\"]\n",
    "grcolor = tab[\"r\"]-tab[\"g\"]\n",
    "\n",
    "#plt.subplot(1, 2, 1)\n",
    "plt.scatter(grcolor, rmag)\n",
    "plt.xlabel('r-K')\n",
    "plt.ylabel('r')\n",
    "plt.title('H-R Diagram for Pal 3 Cluster')\n",
    "#plt.xlim(2.5, 4)\n",
    "#plt.ylim(18, 12) #mags go backwards!"
   ]
  },
  {
   "cell_type": "code",
   "execution_count": 48,
   "metadata": {},
   "outputs": [
    {
     "name": "stdout",
     "output_type": "stream",
     "text": [
      "4.659420000000001\n",
      "-2.964489999999998\n",
      "26.44181\n",
      "12.44638\n",
      "\n"
     ]
    }
   ],
   "source": [
    "#print(tab)\n",
    "#newbigtable=join(res[0],res[1], join_type='left')\n",
    "#print(newbigtable)\n",
    "nstars=(len(bigtab))\n",
    "maxgrcolor2=max(bigtab[4][:]-bigtab[5][:])\n",
    "mingrcolor2=min(bigtab[4][:]-bigtab[5][:])\n",
    "maxrmag2=max(bigtab[5][:])\n",
    "minrmag2=min(bigtab[5][:])\n",
    "\n",
    "print(maxgrcolor2)\n",
    "print(mingrcolor2)\n",
    "print(maxrmag2)\n",
    "print(minrmag2)\n",
    "print()\n",
    "#print(newbigtable[10000][8])\n",
    "mingrcolor2=-8\n",
    "\n",
    "#set scale to compare M3 cluster with \n",
    "maxgrcolor2=4.7\n",
    "mingrcolor2=-3\n",
    "maxrmag2=26\n",
    "minrmag2=12\n"
   ]
  },
  {
   "cell_type": "code",
   "execution_count": 52,
   "metadata": {},
   "outputs": [
    {
     "data": {
      "image/png": "[encoded data removed]",
      "text/plain": [
       "<Figure size 432x288 with 1 Axes>"
      ]
     },
     "metadata": {
      "needs_background": "light"
     },
     "output_type": "display_data"
    }
   ],
   "source": [
    "\n",
    "colors = cm.rainbow(np.linspace(0, 1, 2))\n",
    "\n",
    "startab[\"objid\"]\n",
    "rmag = startab[\"r\"]\n",
    "grcolor = startab[\"r\"]-startab[\"g\"]\n",
    "c=colors[0]\n",
    "#plt.subplot(1, 2, 1)\n",
    "plt.scatter(grcolor, rmag,s=2,color=c)\n",
    "\n",
    "\n",
    "#plt.xlim(max(grcolor2[i]), min(grcolor2[i]))\n",
    "#plt.xlim(maxgrcolor2,mingrcolor2)\n",
    "#plt.ylim(maxrmag2, minrmag2)\n",
    "#plt.show()\n",
    "\n",
    "plt.xlabel('r-K')\n",
    "plt.ylabel('r')\n",
    "plt.title('H-R Diagram for Pal 3 Cluster')\n",
    "#plt.xlim(2.5, 4)\n",
    "#plt.ylim(18, 12) #mags go backwards!\n",
    "\n",
    "c=colors[1]\n",
    "rgtab[\"objid\"]\n",
    "rmag = rgtab[\"r\"]\n",
    "grcolor = rgtab[\"r\"]-rgtab[\"g\"]\n",
    "\n",
    "#plt.subplot(1, 2, 1)\n",
    "plt.scatter(grcolor, rmag,s=2,color=c)\n",
    "plt.xlim(maxgrcolor2,mingrcolor2)\n",
    "plt.ylim(maxrmag2, minrmag2)\n",
    "plt.show()\n"
   ]
  },
  {
   "cell_type": "code",
   "execution_count": 43,
   "metadata": {},
   "outputs": [
    {
     "name": "stdout",
     "output_type": "stream",
     "text": [
      "[0.5 0.  1.  1. ]\n"
     ]
    },
    {
     "ename": "IndexError",
     "evalue": "invalid index to scalar variable.",
     "output_type": "error",
     "traceback": [
      "\u001b[0;31m---------------------------------------------------------------------------\u001b[0m",
      "\u001b[0;31mIndexError\u001b[0m                                Traceback (most recent call last)",
      "\u001b[0;32m<ipython-input-43-19287972207f>\u001b[0m in \u001b[0;36m<module>\u001b[0;34m\u001b[0m\n\u001b[1;32m     12\u001b[0m     \u001b[0mc\u001b[0m\u001b[0;34m=\u001b[0m\u001b[0mcolors\u001b[0m\u001b[0;34m[\u001b[0m\u001b[0mi\u001b[0m\u001b[0;34m]\u001b[0m\u001b[0;34m\u001b[0m\u001b[0;34m\u001b[0m\u001b[0m\n\u001b[1;32m     13\u001b[0m     \u001b[0mcres\u001b[0m\u001b[0;34m=\u001b[0m\u001b[0mres\u001b[0m\u001b[0;34m[\u001b[0m\u001b[0mi\u001b[0m\u001b[0;34m]\u001b[0m\u001b[0;34m\u001b[0m\u001b[0;34m\u001b[0m\u001b[0m\n\u001b[0;32m---> 14\u001b[0;31m     \u001b[0mrmag2\u001b[0m\u001b[0;34m[\u001b[0m\u001b[0mi\u001b[0m\u001b[0;34m]\u001b[0m \u001b[0;34m=\u001b[0m \u001b[0mcres\u001b[0m\u001b[0;34m[\u001b[0m\u001b[0;36m5\u001b[0m\u001b[0;34m]\u001b[0m\u001b[0;34m[\u001b[0m\u001b[0;34m:\u001b[0m\u001b[0;34m]\u001b[0m\u001b[0;34m\u001b[0m\u001b[0;34m\u001b[0m\u001b[0m\n\u001b[0m\u001b[1;32m     15\u001b[0m     \u001b[0mgrcolor2\u001b[0m\u001b[0;34m[\u001b[0m\u001b[0mi\u001b[0m\u001b[0;34m]\u001b[0m \u001b[0;34m=\u001b[0m \u001b[0mcres\u001b[0m\u001b[0;34m[\u001b[0m\u001b[0;36m4\u001b[0m\u001b[0;34m]\u001b[0m\u001b[0;34m[\u001b[0m\u001b[0;34m:\u001b[0m\u001b[0;34m]\u001b[0m \u001b[0;34m-\u001b[0m\u001b[0mcres\u001b[0m\u001b[0;34m[\u001b[0m\u001b[0;36m5\u001b[0m\u001b[0;34m]\u001b[0m\u001b[0;34m[\u001b[0m\u001b[0;34m:\u001b[0m\u001b[0;34m]\u001b[0m\u001b[0;34m\u001b[0m\u001b[0;34m\u001b[0m\u001b[0m\n\u001b[1;32m     16\u001b[0m     \u001b[0;31m#print(rmag2)\u001b[0m\u001b[0;34m\u001b[0m\u001b[0;34m\u001b[0m\u001b[0;34m\u001b[0m\u001b[0m\n",
      "\u001b[0;31mIndexError\u001b[0m: invalid index to scalar variable."
     ]
    }
   ],
   "source": [
    "import matplotlib.cm as cm\n",
    "i=0\n",
    "#colors = np.random.rand(len(clusters))\n",
    "rmag2 = 2*[None] \n",
    "grcolor2 = 2*[None]\n",
    "colors = cm.rainbow(np.linspace(0, 1, 2))\n",
    "print(colors[0])\n",
    "#colmaps = ['Blues', 'Greys', 'Reds']\n",
    "#plt.figure()\n",
    "\n",
    "for i in range(2):\n",
    "    c=colors[i]\n",
    "    cres=res[i]\n",
    "    rmag2[i] = cres[5][:]\n",
    "    grcolor2[i] = cres[4][:] -cres[5][:]\n",
    "    #print(rmag2)\n",
    "    #print(grcolor2)\n",
    "    \n",
    "    \n",
    "    plt.figure(i)\n",
    "    plt.scatter(grcolor2[i], rmag2[i],s=1,color=c)\n",
    "    plt.xlabel('r-K')\n",
    "    plt.ylabel('r')\n",
    "    thetitle='H-R Diagram for '+clus[0]+' Cluster'\n",
    "    plt.title(thetitle)\n",
    "    \n",
    "    #plt.xlim(max(grcolor2[i]), min(grcolor2[i]))\n",
    "    plt.xlim(maxgrcolor2,mingrcolor2)\n",
    "    plt.ylim(maxrmag2, minrmag2)\n",
    "    plt.show()\n",
    "    i=i+1\n"
   ]
  },
  {
   "cell_type": "code",
   "execution_count": null,
   "metadata": {},
   "outputs": [],
   "source": []
  }
 ],
 "metadata": {
  "kernelspec": {
   "display_name": "Python 3",
   "language": "python",
   "name": "python3"
  },
  "language_info": {
   "codemirror_mode": {
    "name": "ipython",
    "version": 3
   },
   "file_extension": ".py",
   "mimetype": "text/x-python",
   "name": "python",
   "nbconvert_exporter": "python",
   "pygments_lexer": "ipython3",
   "version": "3.6.8"
  }
 },
 "nbformat": 4,
 "nbformat_minor": 2
}
