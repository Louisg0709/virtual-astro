{
 "cells": [
  {
   "cell_type": "markdown",
   "metadata": {},
   "source": [
    "I got the following code and information from https://www.sdss.org/dr16/irspec/spectro_data/#SummaryCatalogs"
   ]
  },
  {
   "cell_type": "markdown",
   "metadata": {},
   "source": [
    "# Finding Red Giants"
   ]
  },
  {
   "cell_type": "markdown",
   "metadata": {},
   "source": [
    "Imports and Variable/Strings"
   ]
  },
  {
   "cell_type": "code",
   "execution_count": 1,
   "metadata": {},
   "outputs": [
    {
     "ename": "FileNotFoundError",
     "evalue": "[Errno 2] No such file or directory: 'allStar-r12-l33.fits'",
     "output_type": "error",
     "traceback": [
      "\u001b[1;31m---------------------------------------------------------------------------\u001b[0m",
      "\u001b[1;31mFileNotFoundError\u001b[0m                         Traceback (most recent call last)",
      "\u001b[1;32m<ipython-input-1-8b6da33f4e95>\u001b[0m in \u001b[0;36m<module>\u001b[1;34m\u001b[0m\n\u001b[0;32m      1\u001b[0m \u001b[1;32mimport\u001b[0m \u001b[0mnumpy\u001b[0m\u001b[1;33m\u001b[0m\u001b[1;33m\u001b[0m\u001b[0m\n\u001b[0;32m      2\u001b[0m \u001b[1;32mfrom\u001b[0m \u001b[0mastropy\u001b[0m\u001b[1;33m.\u001b[0m\u001b[0mio\u001b[0m \u001b[1;32mimport\u001b[0m \u001b[0mfits\u001b[0m\u001b[1;33m\u001b[0m\u001b[1;33m\u001b[0m\u001b[0m\n\u001b[1;32m----> 3\u001b[1;33m \u001b[0mstar_hdus\u001b[0m \u001b[1;33m=\u001b[0m \u001b[0mfits\u001b[0m\u001b[1;33m.\u001b[0m\u001b[0mopen\u001b[0m\u001b[1;33m(\u001b[0m\u001b[1;34m'allStar-r12-l33.fits'\u001b[0m\u001b[1;33m)\u001b[0m\u001b[1;33m\u001b[0m\u001b[1;33m\u001b[0m\u001b[0m\n\u001b[0m\u001b[0;32m      4\u001b[0m \u001b[0mstar\u001b[0m \u001b[1;33m=\u001b[0m \u001b[0mstar_hdus\u001b[0m\u001b[1;33m[\u001b[0m\u001b[1;36m1\u001b[0m\u001b[1;33m]\u001b[0m\u001b[1;33m.\u001b[0m\u001b[0mdata\u001b[0m\u001b[1;33m\u001b[0m\u001b[1;33m\u001b[0m\u001b[0m\n\u001b[0;32m      5\u001b[0m \u001b[0mstar_hdus\u001b[0m\u001b[1;33m.\u001b[0m\u001b[0mclose\u001b[0m\u001b[1;33m(\u001b[0m\u001b[1;33m)\u001b[0m\u001b[1;33m\u001b[0m\u001b[1;33m\u001b[0m\u001b[0m\n",
      "\u001b[1;32mE:\\Programs\\anaconda3\\lib\\site-packages\\astropy\\io\\fits\\hdu\\hdulist.py\u001b[0m in \u001b[0;36mfitsopen\u001b[1;34m(name, mode, memmap, save_backup, cache, lazy_load_hdus, **kwargs)\u001b[0m\n\u001b[0;32m    149\u001b[0m \u001b[1;33m\u001b[0m\u001b[0m\n\u001b[0;32m    150\u001b[0m     return HDUList.fromfile(name, mode, memmap, save_backup, cache,\n\u001b[1;32m--> 151\u001b[1;33m                             lazy_load_hdus, **kwargs)\n\u001b[0m\u001b[0;32m    152\u001b[0m \u001b[1;33m\u001b[0m\u001b[0m\n\u001b[0;32m    153\u001b[0m \u001b[1;33m\u001b[0m\u001b[0m\n",
      "\u001b[1;32mE:\\Programs\\anaconda3\\lib\\site-packages\\astropy\\io\\fits\\hdu\\hdulist.py\u001b[0m in \u001b[0;36mfromfile\u001b[1;34m(cls, fileobj, mode, memmap, save_backup, cache, lazy_load_hdus, **kwargs)\u001b[0m\n\u001b[0;32m    388\u001b[0m         return cls._readfrom(fileobj=fileobj, mode=mode, memmap=memmap,\n\u001b[0;32m    389\u001b[0m                              \u001b[0msave_backup\u001b[0m\u001b[1;33m=\u001b[0m\u001b[0msave_backup\u001b[0m\u001b[1;33m,\u001b[0m \u001b[0mcache\u001b[0m\u001b[1;33m=\u001b[0m\u001b[0mcache\u001b[0m\u001b[1;33m,\u001b[0m\u001b[1;33m\u001b[0m\u001b[1;33m\u001b[0m\u001b[0m\n\u001b[1;32m--> 390\u001b[1;33m                              lazy_load_hdus=lazy_load_hdus, **kwargs)\n\u001b[0m\u001b[0;32m    391\u001b[0m \u001b[1;33m\u001b[0m\u001b[0m\n\u001b[0;32m    392\u001b[0m     \u001b[1;33m@\u001b[0m\u001b[0mclassmethod\u001b[0m\u001b[1;33m\u001b[0m\u001b[1;33m\u001b[0m\u001b[0m\n",
      "\u001b[1;32mE:\\Programs\\anaconda3\\lib\\site-packages\\astropy\\io\\fits\\hdu\\hdulist.py\u001b[0m in \u001b[0;36m_readfrom\u001b[1;34m(cls, fileobj, data, mode, memmap, save_backup, cache, lazy_load_hdus, **kwargs)\u001b[0m\n\u001b[0;32m   1037\u001b[0m             \u001b[1;32mif\u001b[0m \u001b[1;32mnot\u001b[0m \u001b[0misinstance\u001b[0m\u001b[1;33m(\u001b[0m\u001b[0mfileobj\u001b[0m\u001b[1;33m,\u001b[0m \u001b[0m_File\u001b[0m\u001b[1;33m)\u001b[0m\u001b[1;33m:\u001b[0m\u001b[1;33m\u001b[0m\u001b[1;33m\u001b[0m\u001b[0m\n\u001b[0;32m   1038\u001b[0m                 \u001b[1;31m# instantiate a FITS file object (ffo)\u001b[0m\u001b[1;33m\u001b[0m\u001b[1;33m\u001b[0m\u001b[1;33m\u001b[0m\u001b[0m\n\u001b[1;32m-> 1039\u001b[1;33m                 \u001b[0mfileobj\u001b[0m \u001b[1;33m=\u001b[0m \u001b[0m_File\u001b[0m\u001b[1;33m(\u001b[0m\u001b[0mfileobj\u001b[0m\u001b[1;33m,\u001b[0m \u001b[0mmode\u001b[0m\u001b[1;33m=\u001b[0m\u001b[0mmode\u001b[0m\u001b[1;33m,\u001b[0m \u001b[0mmemmap\u001b[0m\u001b[1;33m=\u001b[0m\u001b[0mmemmap\u001b[0m\u001b[1;33m,\u001b[0m \u001b[0mcache\u001b[0m\u001b[1;33m=\u001b[0m\u001b[0mcache\u001b[0m\u001b[1;33m)\u001b[0m\u001b[1;33m\u001b[0m\u001b[1;33m\u001b[0m\u001b[0m\n\u001b[0m\u001b[0;32m   1040\u001b[0m             \u001b[1;31m# The Astropy mode is determined by the _File initializer if the\u001b[0m\u001b[1;33m\u001b[0m\u001b[1;33m\u001b[0m\u001b[1;33m\u001b[0m\u001b[0m\n\u001b[0;32m   1041\u001b[0m             \u001b[1;31m# supplied mode was None\u001b[0m\u001b[1;33m\u001b[0m\u001b[1;33m\u001b[0m\u001b[1;33m\u001b[0m\u001b[0m\n",
      "\u001b[1;32mE:\\Programs\\anaconda3\\lib\\site-packages\\astropy\\utils\\decorators.py\u001b[0m in \u001b[0;36mwrapper\u001b[1;34m(*args, **kwargs)\u001b[0m\n\u001b[0;32m    501\u001b[0m                         \u001b[1;31m# one with the name of the new argument to the function\u001b[0m\u001b[1;33m\u001b[0m\u001b[1;33m\u001b[0m\u001b[1;33m\u001b[0m\u001b[0m\n\u001b[0;32m    502\u001b[0m                         \u001b[0mkwargs\u001b[0m\u001b[1;33m[\u001b[0m\u001b[0mnew_name\u001b[0m\u001b[1;33m[\u001b[0m\u001b[0mi\u001b[0m\u001b[1;33m]\u001b[0m\u001b[1;33m]\u001b[0m \u001b[1;33m=\u001b[0m \u001b[0mvalue\u001b[0m\u001b[1;33m\u001b[0m\u001b[1;33m\u001b[0m\u001b[0m\n\u001b[1;32m--> 503\u001b[1;33m             \u001b[1;32mreturn\u001b[0m \u001b[0mfunction\u001b[0m\u001b[1;33m(\u001b[0m\u001b[1;33m*\u001b[0m\u001b[0margs\u001b[0m\u001b[1;33m,\u001b[0m \u001b[1;33m**\u001b[0m\u001b[0mkwargs\u001b[0m\u001b[1;33m)\u001b[0m\u001b[1;33m\u001b[0m\u001b[1;33m\u001b[0m\u001b[0m\n\u001b[0m\u001b[0;32m    504\u001b[0m \u001b[1;33m\u001b[0m\u001b[0m\n\u001b[0;32m    505\u001b[0m         \u001b[1;32mreturn\u001b[0m \u001b[0mwrapper\u001b[0m\u001b[1;33m\u001b[0m\u001b[1;33m\u001b[0m\u001b[0m\n",
      "\u001b[1;32mE:\\Programs\\anaconda3\\lib\\site-packages\\astropy\\io\\fits\\file.py\u001b[0m in \u001b[0;36m__init__\u001b[1;34m(self, fileobj, mode, memmap, overwrite, cache)\u001b[0m\n\u001b[0;32m    176\u001b[0m             \u001b[0mself\u001b[0m\u001b[1;33m.\u001b[0m\u001b[0m_open_fileobj\u001b[0m\u001b[1;33m(\u001b[0m\u001b[0mfileobj\u001b[0m\u001b[1;33m,\u001b[0m \u001b[0mmode\u001b[0m\u001b[1;33m,\u001b[0m \u001b[0moverwrite\u001b[0m\u001b[1;33m)\u001b[0m\u001b[1;33m\u001b[0m\u001b[1;33m\u001b[0m\u001b[0m\n\u001b[0;32m    177\u001b[0m         \u001b[1;32melif\u001b[0m \u001b[0misinstance\u001b[0m\u001b[1;33m(\u001b[0m\u001b[0mfileobj\u001b[0m\u001b[1;33m,\u001b[0m \u001b[0mstr\u001b[0m\u001b[1;33m)\u001b[0m\u001b[1;33m:\u001b[0m\u001b[1;33m\u001b[0m\u001b[1;33m\u001b[0m\u001b[0m\n\u001b[1;32m--> 178\u001b[1;33m             \u001b[0mself\u001b[0m\u001b[1;33m.\u001b[0m\u001b[0m_open_filename\u001b[0m\u001b[1;33m(\u001b[0m\u001b[0mfileobj\u001b[0m\u001b[1;33m,\u001b[0m \u001b[0mmode\u001b[0m\u001b[1;33m,\u001b[0m \u001b[0moverwrite\u001b[0m\u001b[1;33m)\u001b[0m\u001b[1;33m\u001b[0m\u001b[1;33m\u001b[0m\u001b[0m\n\u001b[0m\u001b[0;32m    179\u001b[0m         \u001b[1;32melse\u001b[0m\u001b[1;33m:\u001b[0m\u001b[1;33m\u001b[0m\u001b[1;33m\u001b[0m\u001b[0m\n\u001b[0;32m    180\u001b[0m             \u001b[0mself\u001b[0m\u001b[1;33m.\u001b[0m\u001b[0m_open_filelike\u001b[0m\u001b[1;33m(\u001b[0m\u001b[0mfileobj\u001b[0m\u001b[1;33m,\u001b[0m \u001b[0mmode\u001b[0m\u001b[1;33m,\u001b[0m \u001b[0moverwrite\u001b[0m\u001b[1;33m)\u001b[0m\u001b[1;33m\u001b[0m\u001b[1;33m\u001b[0m\u001b[0m\n",
      "\u001b[1;32mE:\\Programs\\anaconda3\\lib\\site-packages\\astropy\\io\\fits\\file.py\u001b[0m in \u001b[0;36m_open_filename\u001b[1;34m(self, filename, mode, overwrite)\u001b[0m\n\u001b[0;32m    553\u001b[0m \u001b[1;33m\u001b[0m\u001b[0m\n\u001b[0;32m    554\u001b[0m         \u001b[1;32mif\u001b[0m \u001b[1;32mnot\u001b[0m \u001b[0mself\u001b[0m\u001b[1;33m.\u001b[0m\u001b[0m_try_read_compressed\u001b[0m\u001b[1;33m(\u001b[0m\u001b[0mself\u001b[0m\u001b[1;33m.\u001b[0m\u001b[0mname\u001b[0m\u001b[1;33m,\u001b[0m \u001b[0mmagic\u001b[0m\u001b[1;33m,\u001b[0m \u001b[0mmode\u001b[0m\u001b[1;33m,\u001b[0m \u001b[0mext\u001b[0m\u001b[1;33m=\u001b[0m\u001b[0mext\u001b[0m\u001b[1;33m)\u001b[0m\u001b[1;33m:\u001b[0m\u001b[1;33m\u001b[0m\u001b[1;33m\u001b[0m\u001b[0m\n\u001b[1;32m--> 555\u001b[1;33m             \u001b[0mself\u001b[0m\u001b[1;33m.\u001b[0m\u001b[0m_file\u001b[0m \u001b[1;33m=\u001b[0m \u001b[0mfileobj_open\u001b[0m\u001b[1;33m(\u001b[0m\u001b[0mself\u001b[0m\u001b[1;33m.\u001b[0m\u001b[0mname\u001b[0m\u001b[1;33m,\u001b[0m \u001b[0mIO_FITS_MODES\u001b[0m\u001b[1;33m[\u001b[0m\u001b[0mmode\u001b[0m\u001b[1;33m]\u001b[0m\u001b[1;33m)\u001b[0m\u001b[1;33m\u001b[0m\u001b[1;33m\u001b[0m\u001b[0m\n\u001b[0m\u001b[0;32m    556\u001b[0m             \u001b[0mself\u001b[0m\u001b[1;33m.\u001b[0m\u001b[0mclose_on_error\u001b[0m \u001b[1;33m=\u001b[0m \u001b[1;32mTrue\u001b[0m\u001b[1;33m\u001b[0m\u001b[1;33m\u001b[0m\u001b[0m\n\u001b[0;32m    557\u001b[0m \u001b[1;33m\u001b[0m\u001b[0m\n",
      "\u001b[1;32mE:\\Programs\\anaconda3\\lib\\site-packages\\astropy\\io\\fits\\util.py\u001b[0m in \u001b[0;36mfileobj_open\u001b[1;34m(filename, mode)\u001b[0m\n\u001b[0;32m    386\u001b[0m     \"\"\"\n\u001b[0;32m    387\u001b[0m \u001b[1;33m\u001b[0m\u001b[0m\n\u001b[1;32m--> 388\u001b[1;33m     \u001b[1;32mreturn\u001b[0m \u001b[0mopen\u001b[0m\u001b[1;33m(\u001b[0m\u001b[0mfilename\u001b[0m\u001b[1;33m,\u001b[0m \u001b[0mmode\u001b[0m\u001b[1;33m,\u001b[0m \u001b[0mbuffering\u001b[0m\u001b[1;33m=\u001b[0m\u001b[1;36m0\u001b[0m\u001b[1;33m)\u001b[0m\u001b[1;33m\u001b[0m\u001b[1;33m\u001b[0m\u001b[0m\n\u001b[0m\u001b[0;32m    389\u001b[0m \u001b[1;33m\u001b[0m\u001b[0m\n\u001b[0;32m    390\u001b[0m \u001b[1;33m\u001b[0m\u001b[0m\n",
      "\u001b[1;31mFileNotFoundError\u001b[0m: [Errno 2] No such file or directory: 'allStar-r12-l33.fits'"
     ]
    }
   ],
   "source": [
    "import numpy\n",
    "from astropy.io import fits \n",
    "star_hdus = fits.open('allStar-r12-l33.fits')\n",
    "star = star_hdus[1].data\n",
    "star_hdus.close()\n",
    "badbits = 2**23\n",
    "gd = (numpy.bitwise_and(star['aspcapflag'], badbits) == 0) & (star['extratarg']==0)\n",
    "ind = numpy.where(gd)[0] "
   ]
  },
  {
   "cell_type": "code",
   "execution_count": 1,
   "metadata": {},
   "outputs": [],
   "source": [
    "from astropy import units as u\n",
    "from astropy.coordinates import SkyCoord"
   ]
  },
  {
   "cell_type": "code",
   "execution_count": 2,
   "metadata": {},
   "outputs": [
    {
     "name": "stdout",
     "output_type": "stream",
     "text": [
      "3\n",
      "['Pal 4', 2]\n",
      "Pal 4\n",
      "2\n"
     ]
    }
   ],
   "source": [
    "#clusters=[['ngc 2419',12],['Pal 3',12],['Pal 4',12],['ngc 4147',12],['ngc 5024',12],['M53',12],['ngc 5053',12],['ngc 5272',12]\n",
    "#      ,['M3',12],['ngc 5466',12],['Pal 5',12],['ngc 5904',12],['M5',12],['Pal 14',12],['ngc 6205',12],['M13',12],\n",
    "#     ['ngc 6341',12],['M92',12],['ngc 6838',12],['M71',12],['ngc 7006',12],['ngc 7078',12],['M15',12],['ngc 7089',12],['M2',12]]\n",
    "clusters=[['ngc 2419',2.92],['Pal 3',6.18],['Pal 4',2]]\n",
    "\n",
    "print(len(clusters))\n",
    "i=2\n",
    "print(clusters[i])\n",
    "\n",
    "sclus=clusters[i]\n",
    "print(sclus[0])\n",
    "print(sclus[1])"
   ]
  },
  {
   "cell_type": "code",
   "execution_count": 3,
   "metadata": {},
   "outputs": [
    {
     "name": "stdout",
     "output_type": "stream",
     "text": [
      "3\n",
      "['Pal 4', 2]\n",
      "Pal 4\n",
      "2\n"
     ]
    }
   ],
   "source": [
    "\n",
    "rgs=[['119 Tau',12]]\n",
    "#clusters=[['ngc 2419',2.92],['Pal 3',6.18],['Pal 4',2]]\n",
    "\n",
    "print(len(clusters))\n",
    "i=2\n",
    "print(clusters[i])\n",
    "\n",
    "sclus=clusters[i]\n",
    "print(sclus[0])\n",
    "print(sclus[1])"
   ]
  },
  {
   "cell_type": "code",
   "execution_count": 4,
   "metadata": {},
   "outputs": [
    {
     "name": "stdout",
     "output_type": "stream",
     "text": [
      "ngc 2419\n",
      "114.53545833 38.88191667\n",
      "Pal 3\n",
      "151.379 0.07094444\n",
      "Pal 4\n",
      "172.32 28.97361111\n"
     ]
    }
   ],
   "source": [
    "radeg= [None] * len(clusters)\n",
    "decdeg= [None] * len(clusters)\n",
    "i=0\n",
    "for clus in clusters:\n",
    "    #print(clus)\n",
    "    print(clus[0])\n",
    "    #print(clus[1])\n",
    "    clus_center = SkyCoord.from_name(clus[0])\n",
    "    #print(clus_center.ra, clus_center.dec)\n",
    "    #print(clus_center.ra.hour, clus_center.dec)\n",
    "    print(str(clus_center.ra.deg), str(clus_center.dec.deg))\n",
    "    radeg[i]=clus_center.ra.deg\n",
    "    decdeg[i]=clus_center.dec.deg\n",
    "    i=i+1\n",
    "    clus[1]=10\n",
    "    \n",
    "    #im_size = clus[1]*u.arcmin \n",
    "    #im_pixels = 1024 \n",
    "    #cutoutbaseurl = 'http://skyservice.pha.jhu.edu/DR12/ImgCutout/getjpeg.aspx'\n",
    "    #query_string = urlencode(dict(ra=clus_center.ra.deg, \n",
    "    #                          dec=clus_center.dec.deg, \n",
    "    #                          width=im_pixels, height=im_pixels, \n",
    "    #                          scale=im_size.to(u.arcsec).value/im_pixels))\n",
    "    #url = cutoutbaseurl + '?' + query_string\n",
    "\n",
    "    # this downloads the image to your disk\n",
    "    #urlretrieve(url, 'PAL3_SDSS_cutout.jpg')\n",
    "    #imfilename='rgout/'+clus[0]+'.jpg'\n",
    "    #urlretrieve(url, imfilename)"
   ]
  },
  {
   "cell_type": "code",
   "execution_count": 5,
   "metadata": {},
   "outputs": [
    {
     "name": "stdout",
     "output_type": "stream",
     "text": [
      "gzip was not found on your system! You should solve this issue for astroquery.eso to be at its best!\n",
      "On POSIX system: make sure gzip is installed and in your path!On Windows: same for 7-zip (http://www.7-zip.org)!\n"
     ]
    }
   ],
   "source": [
    "from astroquery.sdss import SDSS\n",
    "from astropy.io import ascii\n",
    "\n",
    "q1 = \" select s.objid, s.ra, s.dec, s.u, s.g, s.r, s.i, s.z from star s, \"\n",
    "q3 = \"  n where s.objid = n.objid \"\n",
    "i=0\n",
    "for clus in clusters:\n",
    "    #query = \"select top 10                        z, ra, dec, bestObjID                      from                        specObj                      where                        class = 'galaxy'                        and z > 0.3                        and zWarning = 0\"\n",
    "    #query = \" select s.objid, s.ra, s.dec, s.u, s.g, s.r, s.i, s.z from star s, dbo.fGetNearbyObjEq(229.0128,-0.1082,3) n where s.objid = n.objid \"\n",
    "    q2 = \" dbo.fGetNearbyObjEq(\"+str(radeg[i])+\",\"+str(decdeg[i])+\",8) \"\n",
    "    query = q1+q2+q3\n",
    "    i=i+1\n",
    "    res = SDSS.query_sql(query)\n",
    "    outfile='rgout/'+clus[0]+'.csv'\n",
    "    ascii.write(res,outfile)"
   ]
  },
  {
   "cell_type": "code",
   "execution_count": 6,
   "metadata": {},
   "outputs": [
    {
     "name": "stdout",
     "output_type": "stream",
     "text": [
      "       objid               ra              dec        ...    i        z    \n",
      "------------------- ---------------- ---------------- ... -------- --------\n",
      "1237667211061428338 172.248783154785  29.016977490102 ... 20.09388 20.23998\n",
      "1237667211061429267 172.221763553627 29.0183213925301 ... 22.31523 23.10095\n",
      "1237667211061428650 172.210561168824 28.9696136908014 ... 22.62903   22.145\n",
      "1237667211061428660 172.212228454625 28.9698510209076 ... 23.28109 22.04665\n",
      "1237667211061428712 172.235144561811 28.9671820349401 ... 19.00416 18.49835\n",
      "1237667211061494736 172.369480184003 29.0093206209201 ... 22.32587 23.75194\n",
      "1237667211061494090 172.369967527838 29.0236005393859 ... 22.61952 23.56167\n",
      "1237667211061494106 172.377099409577 29.0230302988427 ... 22.47577 21.66122\n",
      "1237667211061494136 172.386704992373 29.0307274729142 ... 21.45578 21.82044\n",
      "1237667211061428989 172.313453285795 29.0264308006407 ... 24.18897 22.98672\n",
      "                ...              ...              ... ...      ...      ...\n",
      "1237667253474165100 172.461418424591 28.9275606581362 ... 20.64105 20.27177\n",
      "1237667253474165106 172.460081359455 28.9613714502977 ... 22.58908 22.38118\n",
      "1237667253474165107 172.459920472775 28.9603914181844 ... 22.22834 22.72234\n",
      "1237667253474165358 172.421843615525 28.8839186679839 ... 23.97657 21.88713\n",
      "1237667253474165359 172.420900766552 28.9063192361152 ... 22.79693 23.31907\n",
      "1237667253474165365 172.428242847624 28.8944534898102 ... 20.53152 19.98442\n",
      "1237667253474165384 172.444732349604 28.9126286297052 ...  21.7385 21.96496\n",
      "1237667253474165392 172.450004582596 28.9286605249557 ... 21.77177 21.65504\n",
      "1237667253474165584 172.412340078687 28.9455698914666 ... 25.30118 20.71501\n",
      "1237667253474165585 172.428229410688 28.9115598878432 ... 24.88567 20.68259\n",
      "1237667253474165589 172.450043371332 28.9134581001514 ... 24.99848 20.50203\n",
      "Length = 565 rows\n"
     ]
    }
   ],
   "source": [
    "print(res)\n"
   ]
  },
  {
   "cell_type": "code",
   "execution_count": 8,
   "metadata": {},
   "outputs": [
    {
     "name": "stdout",
     "output_type": "stream",
     "text": [
      "       objid               ra              dec           u        g        r        i        z    \n",
      "------------------- ---------------- ---------------- -------- -------- -------- -------- --------\n",
      "1237667211061429267 172.221763553627 29.0183213925301 25.29737 25.30601 25.04325 22.31523 23.10095\n"
     ]
    }
   ],
   "source": [
    "print (res[1])"
   ]
  },
  {
   "cell_type": "code",
   "execution_count": 12,
   "metadata": {},
   "outputs": [
    {
     "name": "stdout",
     "output_type": "stream",
     "text": [
      "29.0183213925301\n",
      "565\n"
     ]
    }
   ],
   "source": [
    "print(res[1][2])\n",
    "print(len(res))"
   ]
  },
  {
   "cell_type": "code",
   "execution_count": null,
   "metadata": {},
   "outputs": [],
   "source": []
  },
  {
   "cell_type": "code",
   "execution_count": 25,
   "metadata": {},
   "outputs": [
    {
     "name": "stdout",
     "output_type": "stream",
     "text": [
      "about time!\n",
      "about time!\n",
      "about time!\n",
      "about time!\n",
      "about time!\n",
      "about time!\n",
      "about time!\n",
      "about time!\n",
      "about time!\n",
      "about time!\n",
      "about time!\n"
     ]
    }
   ],
   "source": [
    "from astropy.table import QTable, Table, Column\n",
    "\n",
    "clussize=len(res)\n",
    "startab = Table(names=('objid', 'ra', 'dec', 'u', 'g', 'r', 'i', 'z'),dtype=('int32', 'float64','float64', 'float64','float64','float64', 'float64','float64'))\n",
    "# t = Table(names=('a', 'b', 'c'), dtype=('f4', 'i4', 'S2'))\n",
    "for i in range(clussize):\n",
    "#for i in range(5):\n",
    "    g=res[i][4]\n",
    "    r=res[i][5]\n",
    "    u=res[i][3]\n",
    "    if g-r>0.8 and g-r<1.3:\n",
    "        if u-g>0.84*(g-r)+1.758:\n",
    "            if u-g<2.4*(g-r)+0.73:\n",
    "                print(\"about time!\")\n",
    "                startab.add_row(res[i])\n",
    "        \n",
    "    "
   ]
  },
  {
   "cell_type": "code",
   "execution_count": 26,
   "metadata": {},
   "outputs": [
    {
     "name": "stdout",
     "output_type": "stream",
     "text": [
      "  objid           ra              dec        ...    r        i        z    \n",
      "---------- ---------------- ---------------- ... -------- -------- --------\n",
      "1635189294 172.252826641857 29.0063031628907 ... 21.16535  20.5558 20.25026\n",
      "1098122050  172.24111258085 28.8720361473859 ... 22.12561 21.83517 21.60674\n",
      "1635189585 172.337715748462 28.9920641020658 ... 21.66274 21.53074 20.95118\n",
      "1635188884 172.315344949426 28.9731051914916 ... 18.84352 18.48847 18.32708\n",
      "1635188882  172.31167702426 28.9755759486245 ... 18.23309 17.84693 17.55528\n",
      "1635188879 172.311255584963  28.970681152567 ... 17.35341 16.41033 15.92467\n",
      "1098186874 172.314679370383 28.9629462891173 ...    17.88 17.39557 17.14681\n",
      "1635254361 172.434063726624 29.0587151490484 ... 18.84081 18.23163 17.94285\n",
      "1098186811 172.332501667662 28.8976377003353 ... 17.86664 17.43954 17.18964\n",
      "1098186962 172.338216399358 28.9429731859855 ...  19.0919 18.20432 17.73378\n",
      "1098187395 172.366428850052 28.9525824591692 ... 21.97215 21.53922 21.29676\n"
     ]
    }
   ],
   "source": [
    "print(startab)"
   ]
  },
  {
   "cell_type": "code",
   "execution_count": null,
   "metadata": {},
   "outputs": [],
   "source": []
  }
 ],
 "metadata": {
  "kernelspec": {
   "display_name": "Python 3",
   "language": "python",
   "name": "python3"
  },
  "language_info": {
   "codemirror_mode": {
    "name": "ipython",
    "version": 3
   },
   "file_extension": ".py",
   "mimetype": "text/x-python",
   "name": "python",
   "nbconvert_exporter": "python",
   "pygments_lexer": "ipython3",
   "version": "3.7.1"
  }
 },
 "nbformat": 4,
 "nbformat_minor": 2
}
